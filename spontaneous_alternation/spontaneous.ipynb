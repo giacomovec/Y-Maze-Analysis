{
 "cells": [
  {
   "cell_type": "markdown",
   "metadata": {},
   "source": [
    "Y-Maze Spontaneous Alternation Analysis"
   ]
  },
  {
   "cell_type": "markdown",
   "metadata": {},
   "source": [
    "Files should be named as such: groupnumber_conditionandid_dayofrecording"
   ]
  },
  {
   "cell_type": "markdown",
   "metadata": {},
   "source": [
    "e.g.\n",
    "For the first group, the first sham mouse at day 2 should be named: g1_sham1_d02"
   ]
  },
  {
   "cell_type": "markdown",
   "metadata": {},
   "source": [
    "Analyze videos with DeepLabCut, the points should be written like this and in this order (you can copy and paste this in the config file):\n",
    "- nose\n",
    "- ear_left\n",
    "- ear_right\n",
    "- tail_base\n",
    "- y_top\n",
    "- y_left\n",
    "- y_right\n",
    "- center_bottom\n",
    "- center_left\n",
    "- center_right"
   ]
  },
  {
   "cell_type": "markdown",
   "metadata": {},
   "source": [
    "Write the path of the *.h5 files in the variable below, between the \"\""
   ]
  },
  {
   "cell_type": "code",
   "execution_count": null,
   "metadata": {},
   "outputs": [],
   "source": [
    "directory = r\"path\\to\\directory\""
   ]
  },
  {
   "cell_type": "markdown",
   "metadata": {},
   "source": [
    "Run the cell below to create a csv with added metrics for each recording and a collected csv for all the files in the folder (it's important to have, in the same folder as this script, the util.py file)"
   ]
  },
  {
   "cell_type": "code",
   "execution_count": null,
   "metadata": {},
   "outputs": [],
   "source": [
    "from util import create_dataset, add_metrics, combine_rows\n",
    "\n",
    "df = create_dataset(directory)\n",
    "df  = add_metrics(df=df, directory=directory)\n",
    "df = combine_rows(df)\n",
    "df.to_csv(\"collected_dataset_metrics.csv\", index=False)"
   ]
  },
  {
   "cell_type": "markdown",
   "metadata": {},
   "source": [
    "(OPTIONAL) Script to visualize videos with prediction and arm"
   ]
  },
  {
   "cell_type": "code",
   "execution_count": null,
   "metadata": {},
   "outputs": [],
   "source": [
    "# VIDEO FILE PATH\n",
    "file_name = r\"path\\to\\video\"\n",
    "# DATA PATH\n",
    "data_file_name = r\"path\\to\\corresponding\\csv\""
   ]
  },
  {
   "cell_type": "code",
   "execution_count": null,
   "metadata": {},
   "outputs": [],
   "source": [
    "import cv2\n",
    "import platform\n",
    "import pandas as pd\n",
    "from util import overlay_pose_estimation\n",
    "\n",
    "df = pd.read_csv(data_file_name)\n",
    "# Video reproduction\n",
    "camera = cv2.VideoCapture(file_name)\n",
    "WINDOW_NAME = \"img\"\n",
    "cv2.namedWindow(WINDOW_NAME)\n",
    "cv2.startWindowThread()\n",
    "length = int(camera.get(cv2.CAP_PROP_FRAME_COUNT))\n",
    "frame_index = 1\n",
    "while True:\n",
    "    ret, img = camera.read()\n",
    "    if ret:\n",
    "        h, w, c = img.shape\n",
    "        df_line = df.iloc[frame_index]\n",
    "\n",
    "        comb_img = overlay_pose_estimation(img, df_line, w, h)\n",
    "        cv2.putText(\n",
    "            comb_img,\n",
    "            str(df_line[\"arm\"]),\n",
    "            (10, 500),\n",
    "            4,\n",
    "            4,\n",
    "            (255, 255, 255),\n",
    "            2,\n",
    "            cv2.LINE_AA,\n",
    "        )\n",
    "\n",
    "        cv2.imshow(WINDOW_NAME, comb_img)\n",
    "        if cv2.waitKey(1) & 0xFF == ord(\"q\"):\n",
    "            break\n",
    "        frame_index += 1\n",
    "    else:\n",
    "        break\n",
    "\n",
    "camera.release()\n",
    "cv2.destroyAllWindows()\n",
    "\n",
    "# Next line helps with an error with macOS not closing windows and freezing\n",
    "if platform.system() == \"Darwin\":\n",
    "    for i in range(1, 5):\n",
    "        cv2.waitKey(1)\n"
   ]
  }
 ],
 "metadata": {
  "kernelspec": {
   "display_name": "gia",
   "language": "python",
   "name": "python3"
  },
  "language_info": {
   "codemirror_mode": {
    "name": "ipython",
    "version": 3
   },
   "file_extension": ".py",
   "mimetype": "text/x-python",
   "name": "python",
   "nbconvert_exporter": "python",
   "pygments_lexer": "ipython3",
   "version": "3.11.9"
  }
 },
 "nbformat": 4,
 "nbformat_minor": 2
}
