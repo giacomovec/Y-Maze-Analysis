{
 "cells": [
  {
   "cell_type": "markdown",
   "metadata": {},
   "source": [
    "Y-Maze Forced Alternation Analysis"
   ]
  },
  {
   "cell_type": "markdown",
   "metadata": {},
   "source": [
    "Files should be named as such: groupnumber_conditionandid_dayofrecording"
   ]
  },
  {
   "cell_type": "markdown",
   "metadata": {},
   "source": [
    "e.g.\n",
    "For the first group, the first sham mouse at day 2 should be named: g1_sham1_d02"
   ]
  },
  {
   "cell_type": "markdown",
   "metadata": {},
   "source": [
    "Analyze videos with DeepLabCut, the points should be written like this and in this order (you can copy and paste this in the config file):\n",
    "- nose\n",
    "- ear_left\n",
    "- ear_right\n",
    "- tail_base\n",
    "- y_top\n",
    "- y_left\n",
    "- y_right\n",
    "- center_bottom\n",
    "- center_left\n",
    "- center_right\n"
   ]
  },
  {
   "cell_type": "markdown",
   "metadata": {},
   "source": [
    "Write the path of the *.h5 files in the variable below, between the \"\""
   ]
  },
  {
   "cell_type": "code",
   "execution_count": 1,
   "metadata": {},
   "outputs": [],
   "source": [
    "directory = r\"path\\to\\h5\\directory\""
   ]
  },
  {
   "cell_type": "markdown",
   "metadata": {},
   "source": [
    "Run the cell below to create a csv with added metrics for each recording and a collected csv for all the files in the folder (it's important to have, in the same folder as this script, the util.py file)"
   ]
  },
  {
   "cell_type": "code",
   "execution_count": 2,
   "metadata": {},
   "outputs": [
    {
     "name": "stdout",
     "output_type": "stream",
     "text": [
      "Creating Dataset...\n"
     ]
    },
    {
     "data": {
      "application/vnd.jupyter.widget-view+json": {
       "model_id": "aa179d05948e4e3a9f76aaa936e0bc56",
       "version_major": 2,
       "version_minor": 0
      },
      "text/plain": [
       "  0%|          | 0/9 [00:00<?, ?it/s]"
      ]
     },
     "metadata": {},
     "output_type": "display_data"
    },
    {
     "name": "stdout",
     "output_type": "stream",
     "text": [
      "[['g1', 'g1sham1', 'd02', 1.4791462867214014, 'g1_sham1_d02', 0, 5696, 25722, -242, 16, 0.21938068094284394], ['g1', 'g1sham1', 'd09', 1.3882511265855868, 'g1_sham1_d09', 0, 8001, 17187, 0, 15, 0.4655262698551231], ['g1', 'g1sham1', 'd37', 1.9100230412023214, 'g1_sham1_d37', 0, 2998, 10888, 0, 11, 0.27534900808229246], ['g1', 'g1sham1', 'd51', 2.0396358705562263, 'g1_sham1_d51', 0, 3956, 10913, -421, 9, 0.34547201117806303], ['g1', 'g1sham1', 'd65', 2.193576465603174, 'g1_sham1_d65', 0, 2974, 11733, -34, 8, 0.25274071556046573], ['g1', 'g1sham1', 'd79', 1.9725850129820188, 'g1_sham1_d79', 1, 5572, 11109, 0, 13, 0.5015752993068683], ['g1', 'g1sham2', 'd02', 1.6339834636963677, 'g1_sham2_d02', 0, 5422, 24894, 0, 12, 0.217803486783964], ['g1', 'g1sham2', 'd09', 1.724509682265839, 'g1_sham2_d09', 0, 6056, 21197, -359, 15, 0.27348265895953755], ['g1', 'g1sham2', 'd37', 2.2141905766885275, 'g1_sham2_d37', 1, 2858, 11941, -370, 12, 0.2321501096580294]]\n"
     ]
    }
   ],
   "source": [
    "from util import create_dataset\n",
    "\n",
    "df = create_dataset(directory)\n",
    "df.to_csv(\"forced_alternation.csv\", index=False)\n"
   ]
  }
 ],
 "metadata": {
  "kernelspec": {
   "display_name": "gia",
   "language": "python",
   "name": "python3"
  },
  "language_info": {
   "codemirror_mode": {
    "name": "ipython",
    "version": 3
   },
   "file_extension": ".py",
   "mimetype": "text/x-python",
   "name": "python",
   "nbconvert_exporter": "python",
   "pygments_lexer": "ipython3",
   "version": "3.11.9"
  }
 },
 "nbformat": 4,
 "nbformat_minor": 2
}
